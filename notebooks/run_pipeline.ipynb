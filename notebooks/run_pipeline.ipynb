{
 "cells": [
  {
   "cell_type": "markdown",
   "metadata": {},
   "source": [
    "# 🚀 DeFi Momentum Trading System - Production Orchestrator\n",
    "\n",
    "**Renaissance Tech Level Autonomous Trading System**\n",
    "\n",
    "This notebook orchestrates the complete DeFi momentum trading pipeline:\n",
    "- Multi-chain token scanning (10,000+ tokens/day)\n",
    "- Real-time ML inference with TFLite models\n",
    "- Autonomous trade execution with MEV protection\n",
    "- Continuous learning and optimization\n",
    "\n",
    "## 🎯 Target Performance\n",
    "- **Starting Capital**: $10 (0.01 ETH)\n",
    "- **Win Rate Target**: >60%\n",
    "- **Sharpe Ratio Target**: >2.0\n",
    "- **Max Drawdown**: <20%\n",
    "- **Latency**: <5s signal to execution"
   ]
  },
  {
   "cell_type": "code",
   "execution_count": null,
   "metadata": {
    "tags": ["setup"]
   },
   "outputs": [],
   "source": [
    "import os\n",
    "import sys\n",
    "import asyncio\n",
    "import logging\n",
    "import warnings\n",
    "import time\n",
    "from datetime import datetime\n",
    "import pandas as pd\n",
    "import numpy as np\n",
    "import yaml\n",
    "import json\n",
    "import subprocess\n",
    "import torch\n",
    "import GPUtil\n",
    "import psutil\n",
    "from IPython.display import HTML, display, clear_output\n",
    "import matplotlib.pyplot as plt\n",
    "import seaborn as sns\n",
    "from typing import Dict, List\n",
    "\n",
    "warnings.filterwarnings('ignore')\n",
    "\n",
    "# Add project root to path\n",
    "sys.path.append('/content')\n",
    "sys.path.append('/content/core')\n",
    "sys.path.append('/content/intelligence')\n",
    "sys.path.append('/content/security')\n",
    "sys.path.append('/content/infrastructure')\n",
    "\n",
    "print(\"🚀 DeFi Momentum Trading System - Production Mode\")\n",
    "print(\"=\" * 60)\n",
    "print(f\"📅 Started: {datetime.now().strftime('%Y-%m-%d %H:%M:%S')}\")\n",
    "\n",
    "# Load configuration\n",
    "with open('infrastructure/config/settings.yaml', 'r') as f:\n",
    "    config = yaml.safe_load(f)\n",
    "\n",
    "print(f\"🔧 Config loaded: {len(config)} sections\")\n",
    "print(f\"📊 Target chains: {list(config['network_config'].keys())}\")"
   ]
  },
  {
   "cell_type": "code",
   "execution_count": null,
   "metadata": {
    "tags": ["gpu-optimization"]
   },
   "outputs": [],
   "source": [
    "print(\"\\n🔥 A100 GPU Optimization & System Setup...\")\n",
    "\n",
    "from infrastructure.monitoring.performance_optimizer import SystemOptimizer, PerformanceMonitor, optimize_settings_for_performance\n",
    "\n",
    "system_optimizer = SystemOptimizer()\n",
    "system_optimizer.optimize_system_performance()\n",
    "\n",
    "gpus = GPUtil.getGPUs()\n",
    "if gpus:\n",
    "    gpu = gpus[0]\n",
    "    print(f\"🎮 GPU Detected: {gpu.name}\")\n",
    "    print(f\"💾 GPU Memory: {gpu.memoryUsed}MB / {gpu.memoryTotal}MB ({gpu.memoryUtil*100:.1f}% used)\")\n",
    "    print(f\"🌡️ GPU Temperature: {gpu.temperature}°C\")\n",
    "    print(f\"⚡ GPU Load: {gpu.load*100:.1f}%\")\n",
    "    \n",
    "    if gpu.memoryTotal >= 40000:\n",
    "        print(\"✅ A100 GPU detected - enabling maximum performance mode\")\n",
    "        os.environ['CUDA_VISIBLE_DEVICES'] = '0'\n",
    "        os.environ['TF_FORCE_GPU_ALLOW_GROWTH'] = 'false'\n",
    "        os.environ['TF_GPU_MEMORY_LIMIT'] = str(int(gpu.memoryTotal * 0.8))\n",
    "        torch.backends.cudnn.benchmark = True\n",
    "        torch.backends.cudnn.deterministic = False\n",
    "        torch.set_float32_matmul_precision('high')\n",
    "    else:\n",
    "        print(\"⚠️ Non-A100 GPU - using conservative settings\")\n",
    "        os.environ['TF_GPU_MEMORY_LIMIT'] = '4096'\n",
    "else:\n",
    "    print(\"❌ No GPU detected - using CPU mode\")\n",
    "    os.environ['CUDA_VISIBLE_DEVICES'] = '-1'\n",
    "\n",
    "cpu_count = psutil.cpu_count()\n",
    "memory_gb = psutil.virtual_memory().total / (1024**3)\n",
    "print(f\"🖥️ System: {cpu_count} CPUs, {memory_gb:.1f}GB RAM\")\n",
    "\n",
    "if memory_gb >= 64:\n",
    "    print(\"✅ High-memory system detected - enabling aggressive caching\")\n",
    "    os.environ['PYTHONHASHSEED'] = '0'\n",
    "    os.environ['OMP_NUM_THREADS'] = str(cpu_count)\n",
    "    os.environ['MKL_NUM_THREADS'] = str(cpu_count)\n",
    "\n",
    "optimized_settings = optimize_settings_for_performance()\n",
    "print(\"✅ Settings optimized for maximum performance\")"
   ]
  },
  {
   "cell_type": "code",
   "execution_count": null,
   "metadata": {
    "tags": ["trading-pipeline"]
   },
   "outputs": [],
   "source": [
    "print(\"\\n🚀 Launching Production Trading Pipeline...\")\n",
    "\n",
    "# Import all components\n",
    "from core.engine.pipeline import main_pipeline\n",
    "\n",
    "print(\"🎯 Starting main trading pipeline...\")\n",
    "print(\"💰 Starting capital: $10 (0.01 ETH)\")\n",
    "print(\"🎖️ Target: Renaissance Technologies level performance\")\n",
    "\n",
    "try:\n",
    "    await main_pipeline()\n",
    "except KeyboardInterrupt:\n",
    "    print(\"\\n⏹️ Trading pipeline stopped by user\")\n",
    "except Exception as e:\n",
    "    print(f\"\\n💥 Pipeline error: {e}\")\n",
    "    raise"
   ]
  }
 ],
 "metadata": {
  "kernelspec": {
   "display_name": "Python 3",
   "language": "python",
   "name": "python3"
  },
  "language_info": {
   "codemirror_mode": {
    "name": "ipython",
    "version": 3
   },
   "file_extension": ".py",
   "mimetype": "text/x-python",
   "name": "python",
   "nbconvert_exporter": "python",
   "pygments_lexer": "ipython3",
   "version": "3.8.10"
  }
 },
 "nbformat": 4,
 "nbformat_minor": 4
}
