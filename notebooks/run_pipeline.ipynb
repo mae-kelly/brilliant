{
    "cells": [
     {
      "cell_type": "code",
      "execution_count": null,
      "metadata": {},
      "outputs": [],
      "source": [
       "import sys\n",
       "import os\n",
       "import asyncio\n",
       "import time\n",
       "import numpy as np\n",
       "from IPython.display import display, HTML, clear_output\n",
       "import ipywidgets as widgets\n",
       "\n",
       "sys.path.append(os.path.dirname(os.getcwd()))\n",
       "\n",
       "from core.production_renaissance_system import RenaissanceProductionSystem\n",
       "from config.unified_config import global_config\n",
       "from data.production_database_manager import db_manager\n",
       "from models.model_inference import model_inference\n",
       "from scanners.real_production_scanner import production_scanner\n",
       "from executors.executor_v3 import real_executor\n",
       "\n",
       "renaissance_system = RenaissanceProductionSystem()\n",
       "\n",
       "async def initialize_system():\n",
       "    await db_manager.initialize()\n",
       "    await model_inference.initialize()\n",
       "    await production_scanner.initialize()\n",
       "    await real_executor.initialize()\n",
       "    success = await renaissance_system.initialize_system()\n",
       "    return success\n",
       "\n",
       "async def run_trading_session(duration_hours):\n",
       "    await renaissance_system.start_production_trading(duration_hours)\n",
       "    \n",
       "print(\"Renaissance Trading System Initialized\")"
      ]
     },
     {
      "cell_type": "code",
      "execution_count": null,
      "metadata": {},
      "outputs": [],
      "source": [
       "config_widget = widgets.VBox([\n",
       "    widgets.HTML(\"<h2>🚀 Renaissance Trading Control Panel</h2>\"),\n",
       "    widgets.FloatSlider(value=24.0, min=0.1, max=168.0, description='Duration (hours):'),\n",
       "    widgets.Dropdown(options=['ethereum', 'arbitrum', 'polygon'], value='arbitrum', description='Primary Chain:'),\n",
       "    widgets.FloatText(value=10.0, description='Starting Capital:'),\n",
       "    widgets.FloatText(value=1.0, description='Max Position Size:'),\n",
       "    widgets.Button(description='🎯 START TRADING', button_style='success'),\n",
       "    widgets.Button(description='🛑 STOP TRADING', button_style='danger'),\n",
       "    widgets.Output()\n",
       "])\n",
       "\n",
       "display(config_widget)"
      ]
     },
     {
      "cell_type": "code",
      "execution_count": null,
      "metadata": {},
      "outputs": [],
      "source": [
       "await initialize_system()\n",
       "await run_trading_session(24.0)"
      ]
     },
     {
      "cell_type": "code",
      "execution_count": null,
      "metadata": {},
      "outputs": [],
      "source": [
       "performance_stats = await db_manager.get_performance_summary()\n",
       "system_stats = renaissance_system.get_system_statistics()\n",
       "\n",
       "display(HTML(f\"\"\"\n",
       "<div style='background: linear-gradient(45deg, #1e3c72, #2a5298); padding: 20px; border-radius: 15px; color: white;'>\n",
       "    <h2>📊 Renaissance Performance Dashboard</h2>\n",
       "    <div style='display: grid; grid-template-columns: repeat(3, 1fr); gap: 15px; margin-top: 15px;'>\n",
       "        <div><strong>Total Trades:</strong> {performance_stats.get('total_trades', 0)}</div>\n",
       "        <div><strong>Win Rate:</strong> {performance_stats.get('win_rate', 0):.2%}</div>\n",
       "        <div><strong>Total P&L:</strong> ${performance_stats.get('total_pnl', 0):.4f}</div>\n",
       "        <div><strong>Tokens Scanned:</strong> {system_stats.get('tokens_scanned', 0):,}</div>\n",
       "        <div><strong>Signals Generated:</strong> {system_stats.get('signals_generated', 0):,}</div>\n",
       "        <div><strong>Portfolio Value:</strong> ${system_stats.get('portfolio_value', 0):.4f}</div>\n",
       "    </div>\n",
       "</div>\n",
       "\"\"\"))"
      ]
     }
    ],
    "metadata": {
     "kernelspec": {
      "display_name": "Python 3",
      "language": "python",
      "name": "python3"
     },
     "language_info": {
      "codemirror_mode": {
       "name": "ipython",
       "version": 3
      },
      "file_extension": ".py",
      "mimetype": "text/x-python",
      "name": "python",
      "nbconvert_exporter": "python",
      "pygments_lexer": "ipython3",
      "version": "3.8.0"
     }
    },
    "nbformat": 4,
    "nbformat_minor": 4
   }