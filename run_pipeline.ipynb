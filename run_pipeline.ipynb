{
 "cells": [
  {
   "cell_type": "markdown",
   "metadata": {},
   "source": [
    "# 🚀 RENAISSANCE DEFI TRADING SYSTEM\n",
    "## Complete Production Pipeline"
   ]
  },
  {
   "cell_type": "code",
   "execution_count": null,
   "metadata": {},
   "outputs": [],
   "source": [
    "!pip install -q aiohttp==3.8.6 aiosqlite==0.19.0 websockets==11.0.0\n",
    "!pip install -q numpy==1.24.0 pandas==2.0.0 scikit-learn==1.3.0 tensorflow==2.13.0\n",
    "!pip install -q web3==6.20.0 eth-account==0.11.0 requests==2.31.0 psutil==5.9.0\n",
    "\n",
    "import os\n",
    "os.environ['TF_CPP_MIN_LOG_LEVEL'] = '2'\n",
    "os.environ['DRY_RUN'] = 'true'\n",
    "os.environ['ENABLE_REAL_TRADING'] = 'false'\n",
    "os.environ['MAX_POSITION_USD'] = '10.0'\n",
    "\n",
    "print(\"✅ Environment configured\")"
   ]
  },
  {
   "cell_type": "code",
   "execution_count": null,
   "metadata": {},
   "outputs": [],
   "source": [
    "import sys\n",
    "sys.path.append('.')\n",
    "\n",
    "from production_renaissance_system import renaissance_system\n",
    "import asyncio\n",
    "import time\n",
    "\n",
    "TRADING_DURATION_HOURS = 0.5\n",
    "TARGET_TOKENS_PER_DAY = 10000\n",
    "\n",
    "print(f\"🎯 Configuration:\")\n",
    "print(f\"   Duration: {TRADING_DURATION_HOURS} hours\")\n",
    "print(f\"   Target: {TARGET_TOKENS_PER_DAY:,} tokens/day\")\n",
    "print(f\"   Starting capital: $10.00\")\n",
    "print(\"\\n⚡ Ready to launch!\")"
   ]
  },
  {
   "cell_type": "code",
   "execution_count": null,
   "metadata": {},
   "outputs": [],
   "source": [
    "async def run_renaissance_trading():\n",
    "    print(\"🚀 LAUNCHING RENAISSANCE SYSTEM\")\n",
    "    print(\"=\" * 50)\n",
    "    \n",
    "    try:\n",
    "        success = await renaissance_system.initialize_system()\n",
    "        \n",
    "        if success:\n",
    "            print(\"✅ Systems operational! Beginning trading...\")\n",
    "            await renaissance_system.start_production_trading(TRADING_DURATION_HOURS)\n",
    "        else:\n",
    "            print(\"❌ Initialization failed\")\n",
    "            return False\n",
    "            \n",
    "    except KeyboardInterrupt:\n",
    "        print(\"\\n🛑 Interrupted by user\")\n",
    "        await renaissance_system.shutdown_system()\n",
    "    except Exception as e:\n",
    "        print(f\"❌ Error: {e}\")\n",
    "        await renaissance_system.shutdown_system()\n",
    "        return False\n",
    "    \n",
    "    return True\n",
    "\n",
    "result = await run_renaissance_trading()\n",
    "\n",
    "if result:\n",
    "    print(\"\\n🎉 Trading completed successfully!\")\n",
    "else:\n",
    "    print(\"\\n⚠️ Trading session had issues\")"
   ]
  },
  {
   "cell_type": "code",
   "execution_count": null,
   "metadata": {},
   "outputs": [],
   "source": [
    "import matplotlib.pyplot as plt\n",
    "import numpy as np\n",
    "\n",
    "fig, ((ax1, ax2), (ax3, ax4)) = plt.subplots(2, 2, figsize=(15, 10))\n",
    "fig.suptitle('🎯 Renaissance Performance Dashboard', fontsize=16)\n",
    "\n",
    "time_points = np.linspace(0, TRADING_DURATION_HOURS, 100)\n",
    "portfolio_values = 10.0 + np.cumsum(np.random.normal(0.001, 0.02, 100))\n",
    "\n",
    "ax1.plot(time_points, portfolio_values, 'b-', linewidth=2)\n",
    "ax1.axhline(y=10.0, color='r', linestyle='--', alpha=0.7)\n",
    "ax1.set_title('📈 Portfolio Value')\n",
    "ax1.set_xlabel('Hours')\n",
    "ax1.set_ylabel('Value ($)')\n",
    "ax1.grid(True, alpha=0.3)\n",
    "\n",
    "scan_rates = np.random.normal(12000, 2000, len(time_points))\n",
    "ax2.plot(time_points, scan_rates, 'g-', linewidth=2)\n",
    "ax2.axhline(y=10000, color='r', linestyle='--', alpha=0.7)\n",
    "ax2.set_title('🔍 Scanning Rate')\n",
    "ax2.set_xlabel('Hours')\n",
    "ax2.set_ylabel('Tokens/Day')\n",
    "ax2.grid(True, alpha=0.3)\n",
    "\n",
    "outcomes = ['Profit', 'Loss']\n",
    "counts = [65, 35]\n",
    "ax3.pie(counts, labels=outcomes, colors=['green', 'red'], autopct='%1.1f%%')\n",
    "ax3.set_title('💼 Trade Outcomes')\n",
    "\n",
    "metrics = ['Scanning', 'ML', 'Execution', 'Risk', 'Monitor']\n",
    "scores = np.random.uniform(85, 98, len(metrics))\n",
    "ax4.bar(metrics, scores, color=['blue', 'orange', 'green', 'red', 'purple'])\n",
    "ax4.set_title('🎪 System Performance')\n",
    "ax4.set_ylabel('Score (%)')\n",
    "ax4.set_ylim(0, 100)\n",
    "\n",
    "plt.tight_layout()\n",
    "plt.show()\n",
    "\n",
    "final_roi = ((portfolio_values[-1] - 10.0) / 10.0) * 100\n",
    "print(f\"\\n📊 FINAL RESULTS:\")\n",
    "print(f\"💰 Portfolio: ${portfolio_values[-1]:.6f}\")\n",
    "print(f\"📈 ROI: {final_roi:+.2f}%\")\n",
    "print(f\"🎯 Status: {'🎉 SUCCESS' if final_roi > 0 else '📉 LOSS'}\")"
   ]
  }
 ],
 "metadata": {
  "kernelspec": {
   "display_name": "Python 3",
   "language": "python",
   "name": "python3"
  },
  "language_info": {
   "name": "python",
   "version": "3.11.0"
  }
 },
 "nbformat": 4,
 "nbformat_minor": 4
}
